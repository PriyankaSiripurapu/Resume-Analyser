{
 "cells": [
  {
   "cell_type": "code",
   "execution_count": 1,
   "metadata": {},
   "outputs": [],
   "source": [
    "from bs4 import BeautifulSoup\n",
    "import os.path,os\n",
    "import io\n",
    "import string, re"
   ]
  },
  {
   "cell_type": "code",
   "execution_count": 2,
   "metadata": {
    "scrolled": true
   },
   "outputs": [],
   "source": [
    "import spacy\n",
    "nlp = spacy.load('en_core_web_sm')"
   ]
  },
  {
   "cell_type": "code",
   "execution_count": 3,
   "metadata": {},
   "outputs": [],
   "source": [
    "import logging\n",
    "logging.basicConfig(format='%(asctime)s : %(levelname)s : %(message)s', level=logging.INFO)"
   ]
  },
  {
   "cell_type": "code",
   "execution_count": 4,
   "metadata": {},
   "outputs": [],
   "source": [
    "def get_sentences(PATH):\n",
    "    '''For each paras.txt extract sentences for each paragraph using bs4.'''\n",
    "    \n",
    "    sent_file = open(os.path.join(PATH,'sentences.txt'),'w',encoding=\"utf-8\")\n",
    "    print(os.path.join(PATH,'sentences.txt'))\n",
    "    \n",
    "    with open(os.path.join(PATH,'paras.txt'),'r' ,encoding=\"utf-8\") as fobj:\n",
    "        #read the file line-by-line\n",
    "        for line in fobj:\n",
    "            if line != '\\n' and line.strip().startswith('<p>'):\n",
    "                try:\n",
    "                    #extract tagless paragraph-text from <p> tags.\n",
    "                    soup = BeautifulSoup(line.strip(),\"lxml\")\n",
    "                    \n",
    "                    #divide this tagless paragraphs into proper sentences using NLP via spacy.\n",
    "                    doc = nlp(soup.p.text)\n",
    "                except:\n",
    "                    #If the line can't be parsed then log the line and continue to next line.\n",
    "                    logging.warning(PATH,\":\",line,\"can't be parsed.\")\n",
    "                    continue\n",
    "                    \n",
    "                #If parsed then write each sentence in the file 'sentences.txt'.\n",
    "                for each in doc.sents:\n",
    "                    text = each.text+'\\n'\n",
    "                    sent_file.write(each.text+'\\n')\n",
    "                    \n",
    "    sent_file.close()"
   ]
  },
  {
   "cell_type": "code",
   "execution_count": 5,
   "metadata": {
    "scrolled": false
   },
   "outputs": [
    {
     "name": "stderr",
     "output_type": "stream",
     "text": [
      "2020-11-25 21:41:55,927 : INFO : Generating sentences for 3dprinting.meta.stackexchange.com\n"
     ]
    },
    {
     "name": "stdout",
     "output_type": "stream",
     "text": [
      "C:/Users/priya/TM Project/stackexchange\\3dprinting.meta.stackexchange.com\\sentences.txt\n"
     ]
    },
    {
     "name": "stderr",
     "output_type": "stream",
     "text": [
      "2020-11-25 21:42:21,114 : INFO : SUCCESS\n",
      "2020-11-25 21:42:21,115 : INFO : Generating sentences for 3dprinting.stackexchange.com\n"
     ]
    },
    {
     "name": "stdout",
     "output_type": "stream",
     "text": [
      "C:/Users/priya/TM Project/stackexchange\\3dprinting.stackexchange.com\\sentences.txt\n"
     ]
    },
    {
     "name": "stderr",
     "output_type": "stream",
     "text": [
      "2020-11-25 21:49:22,090 : INFO : SUCCESS\n",
      "2020-11-25 21:49:22,090 : INFO : Generating sentences for academia.meta.stackexchange.com\n"
     ]
    },
    {
     "name": "stdout",
     "output_type": "stream",
     "text": [
      "C:/Users/priya/TM Project/stackexchange\\academia.meta.stackexchange.com\\sentences.txt\n"
     ]
    },
    {
     "name": "stderr",
     "output_type": "stream",
     "text": [
      "2020-11-25 21:51:54,890 : INFO : SUCCESS\n",
      "2020-11-25 21:51:54,890 : INFO : Generating sentences for academia.stackexchange.com\n"
     ]
    },
    {
     "name": "stdout",
     "output_type": "stream",
     "text": [
      "C:/Users/priya/TM Project/stackexchange\\academia.stackexchange.com\\sentences.txt\n"
     ]
    },
    {
     "name": "stderr",
     "output_type": "stream",
     "text": [
      "2020-11-25 23:30:59,418 : INFO : SUCCESS\n",
      "2020-11-25 23:30:59,423 : INFO : Generating sentences for ai.meta.stackexchange.com\n"
     ]
    },
    {
     "name": "stdout",
     "output_type": "stream",
     "text": [
      "C:/Users/priya/TM Project/stackexchange\\ai.meta.stackexchange.com\\sentences.txt\n"
     ]
    },
    {
     "name": "stderr",
     "output_type": "stream",
     "text": [
      "2020-11-25 23:32:20,094 : INFO : SUCCESS\n",
      "2020-11-25 23:32:20,094 : INFO : Generating sentences for ai.stackexchange.com\n"
     ]
    },
    {
     "name": "stdout",
     "output_type": "stream",
     "text": [
      "C:/Users/priya/TM Project/stackexchange\\ai.stackexchange.com\\sentences.txt\n"
     ]
    },
    {
     "name": "stderr",
     "output_type": "stream",
     "text": [
      "2020-11-26 00:05:50,412 : INFO : SUCCESS\n",
      "2020-11-26 00:05:50,415 : INFO : Generating sentences for android.meta.stackexchange.com\n"
     ]
    },
    {
     "name": "stdout",
     "output_type": "stream",
     "text": [
      "C:/Users/priya/TM Project/stackexchange\\android.meta.stackexchange.com\\sentences.txt\n"
     ]
    },
    {
     "name": "stderr",
     "output_type": "stream",
     "text": [
      "2020-11-26 00:10:06,918 : INFO : SUCCESS\n",
      "2020-11-26 00:10:06,920 : INFO : Generating sentences for android.stackexchange.com\n"
     ]
    },
    {
     "name": "stdout",
     "output_type": "stream",
     "text": [
      "C:/Users/priya/TM Project/stackexchange\\android.stackexchange.com\\sentences.txt\n"
     ]
    },
    {
     "name": "stderr",
     "output_type": "stream",
     "text": [
      "2020-11-26 01:28:42,143 : INFO : SUCCESS\n",
      "2020-11-26 01:28:42,146 : INFO : Generating sentences for anime.meta.stackexchange.com\n"
     ]
    },
    {
     "name": "stdout",
     "output_type": "stream",
     "text": [
      "C:/Users/priya/TM Project/stackexchange\\anime.meta.stackexchange.com\\sentences.txt\n"
     ]
    },
    {
     "name": "stderr",
     "output_type": "stream",
     "text": [
      "2020-11-26 01:30:39,242 : INFO : SUCCESS\n",
      "2020-11-26 01:30:39,243 : INFO : Generating sentences for anime.stackexchange.com\n"
     ]
    },
    {
     "name": "stdout",
     "output_type": "stream",
     "text": [
      "C:/Users/priya/TM Project/stackexchange\\anime.stackexchange.com\\sentences.txt\n"
     ]
    },
    {
     "name": "stderr",
     "output_type": "stream",
     "text": [
      "2020-11-26 01:48:15,854 : INFO : SUCCESS\n",
      "2020-11-26 01:48:15,855 : INFO : Generating sentences for apple.meta.stackexchange.com\n"
     ]
    },
    {
     "name": "stdout",
     "output_type": "stream",
     "text": [
      "C:/Users/priya/TM Project/stackexchange\\apple.meta.stackexchange.com\\sentences.txt\n"
     ]
    },
    {
     "name": "stderr",
     "output_type": "stream",
     "text": [
      "2020-11-26 01:50:24,659 : INFO : SUCCESS\n",
      "2020-11-26 01:50:24,661 : INFO : Generating sentences for apple.stackexchange.com\n"
     ]
    },
    {
     "name": "stdout",
     "output_type": "stream",
     "text": [
      "C:/Users/priya/TM Project/stackexchange\\apple.stackexchange.com\\sentences.txt\n"
     ]
    },
    {
     "name": "stderr",
     "output_type": "stream",
     "text": [
      "2020-11-26 04:01:23,994 : INFO : SUCCESS\n",
      "2020-11-26 04:01:23,995 : INFO : Generating sentences for arduino.meta.stackexchange.com\n"
     ]
    },
    {
     "name": "stdout",
     "output_type": "stream",
     "text": [
      "C:/Users/priya/TM Project/stackexchange\\arduino.meta.stackexchange.com\\sentences.txt\n"
     ]
    },
    {
     "name": "stderr",
     "output_type": "stream",
     "text": [
      "2020-11-26 04:01:53,575 : INFO : SUCCESS\n",
      "2020-11-26 04:01:53,576 : INFO : Generating sentences for arduino.stackexchange.com\n"
     ]
    },
    {
     "name": "stdout",
     "output_type": "stream",
     "text": [
      "C:/Users/priya/TM Project/stackexchange\\arduino.stackexchange.com\\sentences.txt\n"
     ]
    },
    {
     "name": "stderr",
     "output_type": "stream",
     "text": [
      "2020-11-26 04:31:55,075 : INFO : SUCCESS\n",
      "2020-11-26 04:31:55,077 : INFO : Generating sentences for bitcoin.meta.stackexchange.com\n"
     ]
    },
    {
     "name": "stdout",
     "output_type": "stream",
     "text": [
      "C:/Users/priya/TM Project/stackexchange\\bitcoin.meta.stackexchange.com\\sentences.txt\n"
     ]
    },
    {
     "name": "stderr",
     "output_type": "stream",
     "text": [
      "2020-11-26 04:32:27,611 : INFO : SUCCESS\n",
      "2020-11-26 04:32:27,612 : INFO : Generating sentences for bitcoin.stackexchange.com\n"
     ]
    },
    {
     "name": "stdout",
     "output_type": "stream",
     "text": [
      "C:/Users/priya/TM Project/stackexchange\\bitcoin.stackexchange.com\\sentences.txt\n"
     ]
    },
    {
     "name": "stderr",
     "output_type": "stream",
     "text": [
      "2020-11-26 05:04:10,510 : INFO : SUCCESS\n",
      "2020-11-26 05:04:10,510 : INFO : Generating sentences for chess.meta.stackexchange.com\n"
     ]
    },
    {
     "name": "stdout",
     "output_type": "stream",
     "text": [
      "C:/Users/priya/TM Project/stackexchange\\chess.meta.stackexchange.com\\sentences.txt\n"
     ]
    },
    {
     "name": "stderr",
     "output_type": "stream",
     "text": [
      "2020-11-26 05:04:36,349 : INFO : SUCCESS\n",
      "2020-11-26 05:04:36,351 : INFO : Generating sentences for chess.stackexchange.com\n"
     ]
    },
    {
     "name": "stdout",
     "output_type": "stream",
     "text": [
      "C:/Users/priya/TM Project/stackexchange\\chess.stackexchange.com\\sentences.txt\n"
     ]
    },
    {
     "name": "stderr",
     "output_type": "stream",
     "text": [
      "2020-11-26 05:18:06,367 : INFO : SUCCESS\n",
      "2020-11-26 05:18:06,367 : INFO : Generating sentences for chinese.stackexchange.com\n"
     ]
    },
    {
     "name": "stdout",
     "output_type": "stream",
     "text": [
      "C:/Users/priya/TM Project/stackexchange\\chinese.stackexchange.com\\sentences.txt\n"
     ]
    },
    {
     "name": "stderr",
     "output_type": "stream",
     "text": [
      "2020-11-26 05:35:04,990 : INFO : SUCCESS\n",
      "2020-11-26 05:35:04,991 : INFO : Generating sentences for christianity.meta.stackexchange.com\n"
     ]
    },
    {
     "name": "stdout",
     "output_type": "stream",
     "text": [
      "C:/Users/priya/TM Project/stackexchange\\christianity.meta.stackexchange.com\\sentences.txt\n"
     ]
    },
    {
     "name": "stderr",
     "output_type": "stream",
     "text": [
      "2020-11-26 05:38:39,483 : INFO : SUCCESS\n",
      "2020-11-26 05:38:39,483 : INFO : Generating sentences for christianity.stackexchange.com\n"
     ]
    },
    {
     "name": "stdout",
     "output_type": "stream",
     "text": [
      "C:/Users/priya/TM Project/stackexchange\\christianity.stackexchange.com\\sentences.txt\n"
     ]
    },
    {
     "name": "stderr",
     "output_type": "stream",
     "text": [
      "2020-11-26 06:30:23,957 : INFO : SUCCESS\n",
      "2020-11-26 06:30:23,958 : INFO : Generating sentences for civicrm.meta.stackexchange.com\n"
     ]
    },
    {
     "name": "stdout",
     "output_type": "stream",
     "text": [
      "C:/Users/priya/TM Project/stackexchange\\civicrm.meta.stackexchange.com\\sentences.txt\n"
     ]
    },
    {
     "name": "stderr",
     "output_type": "stream",
     "text": [
      "2020-11-26 06:30:29,668 : INFO : SUCCESS\n",
      "2020-11-26 06:30:29,669 : INFO : Generating sentences for civicrm.stackexchange.com\n"
     ]
    },
    {
     "name": "stdout",
     "output_type": "stream",
     "text": [
      "C:/Users/priya/TM Project/stackexchange\\civicrm.stackexchange.com\\sentences.txt\n"
     ]
    },
    {
     "name": "stderr",
     "output_type": "stream",
     "text": [
      "2020-11-26 06:43:18,987 : INFO : SUCCESS\n",
      "2020-11-26 06:43:18,988 : INFO : Generating sentences for codegolf.meta.stackexchange.com\n"
     ]
    },
    {
     "name": "stdout",
     "output_type": "stream",
     "text": [
      "C:/Users/priya/TM Project/stackexchange\\codegolf.meta.stackexchange.com\\sentences.txt\n"
     ]
    },
    {
     "name": "stderr",
     "output_type": "stream",
     "text": [
      "2020-11-26 06:51:18,781 : INFO : SUCCESS\n",
      "2020-11-26 06:51:18,782 : INFO : Generating sentences for codegolf.stackexchange.com\n"
     ]
    },
    {
     "name": "stdout",
     "output_type": "stream",
     "text": [
      "C:/Users/priya/TM Project/stackexchange\\codegolf.stackexchange.com\\sentences.txt\n"
     ]
    },
    {
     "name": "stderr",
     "output_type": "stream",
     "text": [
      "2020-11-26 08:03:22,362 : INFO : SUCCESS\n",
      "2020-11-26 08:03:22,362 : INFO : Generating sentences for codereview.meta.stackexchange.com\n"
     ]
    },
    {
     "name": "stdout",
     "output_type": "stream",
     "text": [
      "C:/Users/priya/TM Project/stackexchange\\codereview.meta.stackexchange.com\\sentences.txt\n"
     ]
    },
    {
     "name": "stderr",
     "output_type": "stream",
     "text": [
      "2020-11-26 08:07:45,078 : INFO : SUCCESS\n",
      "2020-11-26 08:07:45,079 : INFO : Generating sentences for coffee.meta.stackexchange.com\n"
     ]
    },
    {
     "name": "stdout",
     "output_type": "stream",
     "text": [
      "C:/Users/priya/TM Project/stackexchange\\coffee.meta.stackexchange.com\\sentences.txt\n"
     ]
    },
    {
     "name": "stderr",
     "output_type": "stream",
     "text": [
      "2020-11-26 08:07:52,813 : INFO : SUCCESS\n",
      "2020-11-26 08:07:52,814 : INFO : Generating sentences for coffee.stackexchange.com\n"
     ]
    },
    {
     "name": "stdout",
     "output_type": "stream",
     "text": [
      "C:/Users/priya/TM Project/stackexchange\\coffee.stackexchange.com\\sentences.txt\n"
     ]
    },
    {
     "name": "stderr",
     "output_type": "stream",
     "text": [
      "2020-11-26 08:09:59,148 : INFO : SUCCESS\n",
      "2020-11-26 08:09:59,149 : INFO : Generating sentences for cogsci.meta.stackexchange.com\n"
     ]
    },
    {
     "name": "stdout",
     "output_type": "stream",
     "text": [
      "C:/Users/priya/TM Project/stackexchange\\cogsci.meta.stackexchange.com\\sentences.txt\n"
     ]
    },
    {
     "name": "stderr",
     "output_type": "stream",
     "text": [
      "2020-11-26 08:10:59,536 : INFO : SUCCESS\n",
      "2020-11-26 08:10:59,537 : INFO : Generating sentences for cogsci.stackexchange.com\n"
     ]
    },
    {
     "name": "stdout",
     "output_type": "stream",
     "text": [
      "C:/Users/priya/TM Project/stackexchange\\cogsci.stackexchange.com\\sentences.txt\n"
     ]
    },
    {
     "name": "stderr",
     "output_type": "stream",
     "text": [
      "2020-11-26 08:43:42,013 : INFO : SUCCESS\n",
      "2020-11-26 08:43:42,016 : INFO : Generating sentences for computergraphics.meta.stackexchange.com\n"
     ]
    },
    {
     "name": "stdout",
     "output_type": "stream",
     "text": [
      "C:/Users/priya/TM Project/stackexchange\\computergraphics.meta.stackexchange.com\\sentences.txt\n"
     ]
    },
    {
     "name": "stderr",
     "output_type": "stream",
     "text": [
      "2020-11-26 08:44:13,043 : INFO : SUCCESS\n",
      "2020-11-26 08:44:13,043 : INFO : Generating sentences for computergraphics.stackexchange.com\n"
     ]
    },
    {
     "name": "stdout",
     "output_type": "stream",
     "text": [
      "C:/Users/priya/TM Project/stackexchange\\computergraphics.stackexchange.com\\sentences.txt\n"
     ]
    },
    {
     "name": "stderr",
     "output_type": "stream",
     "text": [
      "2020-11-26 08:57:13,509 : INFO : SUCCESS\n",
      "2020-11-26 08:57:13,514 : INFO : Generating sentences for conlang.meta.stackexchange.com\n"
     ]
    },
    {
     "name": "stdout",
     "output_type": "stream",
     "text": [
      "C:/Users/priya/TM Project/stackexchange\\conlang.meta.stackexchange.com\\sentences.txt\n"
     ]
    },
    {
     "name": "stderr",
     "output_type": "stream",
     "text": [
      "2020-11-26 08:57:30,695 : INFO : SUCCESS\n",
      "2020-11-26 08:57:30,702 : INFO : Generating sentences for conlang.stackexchange.com\n"
     ]
    },
    {
     "name": "stdout",
     "output_type": "stream",
     "text": [
      "C:/Users/priya/TM Project/stackexchange\\conlang.stackexchange.com\\sentences.txt\n"
     ]
    },
    {
     "name": "stderr",
     "output_type": "stream",
     "text": [
      "2020-11-26 08:59:26,659 : INFO : SUCCESS\n",
      "2020-11-26 08:59:26,667 : INFO : Generating sentences for cooking.meta.stackexchange.com\n"
     ]
    },
    {
     "name": "stdout",
     "output_type": "stream",
     "text": [
      "C:/Users/priya/TM Project/stackexchange\\cooking.meta.stackexchange.com\\sentences.txt\n"
     ]
    },
    {
     "name": "stderr",
     "output_type": "stream",
     "text": [
      "2020-11-26 09:04:23,312 : INFO : SUCCESS\n",
      "2020-11-26 09:04:23,314 : INFO : Generating sentences for cooking.stackexchange.com\n"
     ]
    },
    {
     "name": "stdout",
     "output_type": "stream",
     "text": [
      "C:/Users/priya/TM Project/stackexchange\\cooking.stackexchange.com\\sentences.txt\n"
     ]
    },
    {
     "name": "stderr",
     "output_type": "stream",
     "text": [
      "2020-11-26 10:58:02,307 : INFO : SUCCESS\n",
      "2020-11-26 10:58:02,309 : INFO : Generating sentences for craftcms.meta.stackexchange.com\n"
     ]
    },
    {
     "name": "stdout",
     "output_type": "stream",
     "text": [
      "C:/Users/priya/TM Project/stackexchange\\craftcms.meta.stackexchange.com\\sentences.txt\n"
     ]
    },
    {
     "name": "stderr",
     "output_type": "stream",
     "text": [
      "2020-11-26 10:58:15,752 : INFO : SUCCESS\n",
      "2020-11-26 10:58:15,753 : INFO : Generating sentences for craftcms.stackexchange.com\n"
     ]
    },
    {
     "name": "stdout",
     "output_type": "stream",
     "text": [
      "C:/Users/priya/TM Project/stackexchange\\craftcms.stackexchange.com\\sentences.txt\n"
     ]
    },
    {
     "name": "stderr",
     "output_type": "stream",
     "text": [
      "2020-11-26 11:33:37,439 : INFO : SUCCESS\n",
      "2020-11-26 11:33:37,439 : INFO : Generating sentences for crypto.meta.stackexchange.com\n"
     ]
    },
    {
     "name": "stdout",
     "output_type": "stream",
     "text": [
      "C:/Users/priya/TM Project/stackexchange\\crypto.meta.stackexchange.com\\sentences.txt\n"
     ]
    },
    {
     "name": "stderr",
     "output_type": "stream",
     "text": [
      "2020-11-26 11:36:10,688 : INFO : SUCCESS\n",
      "2020-11-26 11:36:10,696 : INFO : Generating sentences for crypto.stackexchange.com\n"
     ]
    },
    {
     "name": "stdout",
     "output_type": "stream",
     "text": [
      "C:/Users/priya/TM Project/stackexchange\\crypto.stackexchange.com\\sentences.txt\n"
     ]
    },
    {
     "name": "stderr",
     "output_type": "stream",
     "text": [
      "2020-11-26 12:58:30,235 : INFO : SUCCESS\n",
      "2020-11-26 12:58:30,246 : INFO : Generating sentences for cs.meta.stackexchange.com\n"
     ]
    },
    {
     "name": "stdout",
     "output_type": "stream",
     "text": [
      "C:/Users/priya/TM Project/stackexchange\\cs.meta.stackexchange.com\\sentences.txt\n"
     ]
    },
    {
     "name": "stderr",
     "output_type": "stream",
     "text": [
      "2020-11-26 12:59:49,160 : INFO : SUCCESS\n",
      "2020-11-26 12:59:49,160 : INFO : Generating sentences for cs.stackexchange.com\n"
     ]
    },
    {
     "name": "stdout",
     "output_type": "stream",
     "text": [
      "C:/Users/priya/TM Project/stackexchange\\cs.stackexchange.com\\sentences.txt\n"
     ]
    },
    {
     "name": "stderr",
     "output_type": "stream",
     "text": [
      "2020-11-26 14:51:56,660 : INFO : SUCCESS\n",
      "2020-11-26 14:51:56,665 : INFO : Generating sentences for cseducators.meta.stackexchange.com\n"
     ]
    },
    {
     "name": "stdout",
     "output_type": "stream",
     "text": [
      "C:/Users/priya/TM Project/stackexchange\\cseducators.meta.stackexchange.com\\sentences.txt\n"
     ]
    },
    {
     "name": "stderr",
     "output_type": "stream",
     "text": [
      "2020-11-26 14:52:35,542 : INFO : SUCCESS\n",
      "2020-11-26 14:52:35,543 : INFO : Generating sentences for cseducators.stackexchange.com\n"
     ]
    },
    {
     "name": "stdout",
     "output_type": "stream",
     "text": [
      "C:/Users/priya/TM Project/stackexchange\\cseducators.stackexchange.com\\sentences.txt\n"
     ]
    },
    {
     "name": "stderr",
     "output_type": "stream",
     "text": [
      "2020-11-26 14:59:57,507 : INFO : SUCCESS\n",
      "2020-11-26 14:59:57,509 : INFO : Generating sentences for cstheory.meta.stackexchange.com\n"
     ]
    },
    {
     "name": "stdout",
     "output_type": "stream",
     "text": [
      "C:/Users/priya/TM Project/stackexchange\\cstheory.meta.stackexchange.com\\sentences.txt\n"
     ]
    },
    {
     "name": "stderr",
     "output_type": "stream",
     "text": [
      "2020-11-26 15:01:39,414 : INFO : SUCCESS\n",
      "2020-11-26 15:01:39,415 : INFO : Generating sentences for cstheory.stackexchange.com\n"
     ]
    },
    {
     "name": "stdout",
     "output_type": "stream",
     "text": [
      "C:/Users/priya/TM Project/stackexchange\\cstheory.stackexchange.com\\sentences.txt\n"
     ]
    },
    {
     "name": "stderr",
     "output_type": "stream",
     "text": [
      "2020-11-26 15:26:35,108 : INFO : SUCCESS\n",
      "2020-11-26 15:26:35,109 : INFO : Generating sentences for datascience.meta.stackexchange.com\n"
     ]
    },
    {
     "name": "stdout",
     "output_type": "stream",
     "text": [
      "C:/Users/priya/TM Project/stackexchange\\datascience.meta.stackexchange.com\\sentences.txt\n"
     ]
    },
    {
     "name": "stderr",
     "output_type": "stream",
     "text": [
      "2020-11-26 15:27:00,460 : INFO : SUCCESS\n",
      "2020-11-26 15:27:00,461 : INFO : Generating sentences for datascience.stackexchange.com\n"
     ]
    },
    {
     "name": "stdout",
     "output_type": "stream",
     "text": [
      "C:/Users/priya/TM Project/stackexchange\\datascience.stackexchange.com\\sentences.txt\n"
     ]
    },
    {
     "name": "stderr",
     "output_type": "stream",
     "text": [
      "2020-11-26 16:04:56,229 : INFO : SUCCESS\n",
      "2020-11-26 16:04:56,230 : INFO : Generating sentences for iot.meta.stackexchange.com\n"
     ]
    },
    {
     "name": "stdout",
     "output_type": "stream",
     "text": [
      "C:/Users/priya/TM Project/stackexchange\\iot.meta.stackexchange.com\\sentences.txt\n"
     ]
    },
    {
     "name": "stderr",
     "output_type": "stream",
     "text": [
      "2020-11-26 16:05:19,772 : INFO : SUCCESS\n",
      "2020-11-26 16:05:19,773 : INFO : Generating sentences for iot.stackexchange.com\n"
     ]
    },
    {
     "name": "stdout",
     "output_type": "stream",
     "text": [
      "C:/Users/priya/TM Project/stackexchange\\iot.stackexchange.com\\sentences.txt\n"
     ]
    },
    {
     "name": "stderr",
     "output_type": "stream",
     "text": [
      "2020-11-26 16:08:49,039 : INFO : SUCCESS\n",
      "2020-11-26 16:08:49,041 : INFO : Generating sentences for joomla.meta.stackexchange.com\n"
     ]
    },
    {
     "name": "stdout",
     "output_type": "stream",
     "text": [
      "C:/Users/priya/TM Project/stackexchange\\joomla.meta.stackexchange.com\\sentences.txt\n"
     ]
    },
    {
     "name": "stderr",
     "output_type": "stream",
     "text": [
      "2020-11-26 16:09:10,377 : INFO : SUCCESS\n",
      "2020-11-26 16:09:10,378 : INFO : Generating sentences for joomla.stackexchange.com\n"
     ]
    },
    {
     "name": "stdout",
     "output_type": "stream",
     "text": [
      "C:/Users/priya/TM Project/stackexchange\\joomla.stackexchange.com\\sentences.txt\n"
     ]
    },
    {
     "name": "stderr",
     "output_type": "stream",
     "text": [
      "2020-11-26 16:20:34,199 : INFO : SUCCESS\n",
      "2020-11-26 16:20:34,200 : INFO : Generating sentences for meta.mathoverflow.net\n"
     ]
    },
    {
     "name": "stdout",
     "output_type": "stream",
     "text": [
      "C:/Users/priya/TM Project/stackexchange\\meta.mathoverflow.net\\sentences.txt\n"
     ]
    },
    {
     "name": "stderr",
     "output_type": "stream",
     "text": [
      "2020-11-26 16:23:41,088 : INFO : SUCCESS\n",
      "2020-11-26 16:23:41,089 : INFO : Generating sentences for meta.superuser.com\n"
     ]
    },
    {
     "name": "stdout",
     "output_type": "stream",
     "text": [
      "C:/Users/priya/TM Project/stackexchange\\meta.superuser.com\\sentences.txt\n"
     ]
    },
    {
     "name": "stderr",
     "output_type": "stream",
     "text": [
      "2020-11-26 16:32:40,742 : INFO : SUCCESS\n",
      "2020-11-26 16:32:40,743 : INFO : Generating sentences for quant.meta.stackexchange.com\n"
     ]
    },
    {
     "name": "stdout",
     "output_type": "stream",
     "text": [
      "C:/Users/priya/TM Project/stackexchange\\quant.meta.stackexchange.com\\sentences.txt\n"
     ]
    },
    {
     "name": "stderr",
     "output_type": "stream",
     "text": [
      "2020-11-26 16:33:03,320 : INFO : SUCCESS\n",
      "2020-11-26 16:33:03,321 : INFO : Generating sentences for quant.stackexchange.com\n"
     ]
    },
    {
     "name": "stdout",
     "output_type": "stream",
     "text": [
      "C:/Users/priya/TM Project/stackexchange\\quant.stackexchange.com\\sentences.txt\n"
     ]
    },
    {
     "name": "stderr",
     "output_type": "stream",
     "text": [
      "2020-11-26 16:59:30,711 : INFO : SUCCESS\n",
      "2020-11-26 16:59:30,712 : INFO : Generating sentences for quantumcomputing.stackexchange.com\n"
     ]
    },
    {
     "name": "stdout",
     "output_type": "stream",
     "text": [
      "C:/Users/priya/TM Project/stackexchange\\quantumcomputing.stackexchange.com\\sentences.txt\n"
     ]
    },
    {
     "name": "stderr",
     "output_type": "stream",
     "text": [
      "2020-11-26 17:05:18,897 : INFO : SUCCESS\n",
      "2020-11-26 17:05:18,898 : INFO : Generating sentences for quantumcomputing.stackexchange.com (1)\n"
     ]
    },
    {
     "name": "stdout",
     "output_type": "stream",
     "text": [
      "C:/Users/priya/TM Project/stackexchange\\quantumcomputing.stackexchange.com (1)\\sentences.txt\n"
     ]
    },
    {
     "name": "stderr",
     "output_type": "stream",
     "text": [
      "2020-11-26 17:11:07,656 : INFO : SUCCESS\n",
      "2020-11-26 17:11:07,657 : INFO : Generating sentences for raspberrypi.meta.stackexchange.com\n"
     ]
    },
    {
     "name": "stdout",
     "output_type": "stream",
     "text": [
      "C:/Users/priya/TM Project/stackexchange\\raspberrypi.meta.stackexchange.com\\sentences.txt\n"
     ]
    },
    {
     "name": "stderr",
     "output_type": "stream",
     "text": [
      "2020-11-26 17:12:08,400 : INFO : SUCCESS\n",
      "2020-11-26 17:12:08,402 : INFO : Generating sentences for raspberrypi.stackexchange.com\n"
     ]
    },
    {
     "name": "stdout",
     "output_type": "stream",
     "text": [
      "C:/Users/priya/TM Project/stackexchange\\raspberrypi.stackexchange.com\\sentences.txt\n"
     ]
    },
    {
     "name": "stderr",
     "output_type": "stream",
     "text": [
      "2020-11-26 18:02:43,811 : INFO : SUCCESS\n",
      "2020-11-26 18:02:43,812 : INFO : Generating sentences for retrocomputing.meta.stackexchange.com\n"
     ]
    },
    {
     "name": "stdout",
     "output_type": "stream",
     "text": [
      "C:/Users/priya/TM Project/stackexchange\\retrocomputing.meta.stackexchange.com\\sentences.txt\n"
     ]
    },
    {
     "name": "stderr",
     "output_type": "stream",
     "text": [
      "2020-11-26 18:03:24,401 : INFO : SUCCESS\n",
      "2020-11-26 18:03:24,402 : INFO : Generating sentences for retrocomputing.stackexchange.com\n"
     ]
    },
    {
     "name": "stdout",
     "output_type": "stream",
     "text": [
      "C:/Users/priya/TM Project/stackexchange\\retrocomputing.stackexchange.com\\sentences.txt\n"
     ]
    },
    {
     "name": "stderr",
     "output_type": "stream",
     "text": [
      "2020-11-26 18:15:10,241 : INFO : SUCCESS\n",
      "2020-11-26 18:15:10,242 : INFO : Generating sentences for reverseengineering.meta.stackexchange.com\n"
     ]
    },
    {
     "name": "stdout",
     "output_type": "stream",
     "text": [
      "C:/Users/priya/TM Project/stackexchange\\reverseengineering.meta.stackexchange.com\\sentences.txt\n"
     ]
    },
    {
     "name": "stderr",
     "output_type": "stream",
     "text": [
      "2020-11-26 18:15:28,186 : INFO : SUCCESS\n",
      "2020-11-26 18:15:28,187 : INFO : Generating sentences for reverseengineering.stackexchange.com\n"
     ]
    },
    {
     "name": "stdout",
     "output_type": "stream",
     "text": [
      "C:/Users/priya/TM Project/stackexchange\\reverseengineering.stackexchange.com\\sentences.txt\n"
     ]
    },
    {
     "name": "stderr",
     "output_type": "stream",
     "text": [
      "2020-11-26 18:27:56,129 : INFO : SUCCESS\n",
      "2020-11-26 18:27:56,130 : INFO : Generating sentences for robotics.meta.stackexchange.com\n"
     ]
    },
    {
     "name": "stdout",
     "output_type": "stream",
     "text": [
      "C:/Users/priya/TM Project/stackexchange\\robotics.meta.stackexchange.com\\sentences.txt\n"
     ]
    },
    {
     "name": "stderr",
     "output_type": "stream",
     "text": [
      "2020-11-26 18:28:17,021 : INFO : SUCCESS\n",
      "2020-11-26 18:28:17,023 : INFO : Generating sentences for robotics.stackexchange.com\n"
     ]
    },
    {
     "name": "stdout",
     "output_type": "stream",
     "text": [
      "C:/Users/priya/TM Project/stackexchange\\robotics.stackexchange.com\\sentences.txt\n"
     ]
    },
    {
     "name": "stderr",
     "output_type": "stream",
     "text": [
      "2020-11-26 18:38:59,330 : INFO : SUCCESS\n"
     ]
    }
   ],
   "source": [
    "dirs = os.listdir('C:/Users/priya/TM Project/stackexchange')\n",
    "#print len(dirs)\n",
    "for each in dirs:\n",
    "    if each == '.DS_Store':\n",
    "        continue\n",
    "    PATH = os.path.join('C:/Users/priya/TM Project/stackexchange',each)\n",
    "    logging.info('Generating sentences for ' + each)\n",
    "    get_sentences(PATH)\n",
    "    logging.info('SUCCESS')"
   ]
  }
 ],
 "metadata": {
  "kernelspec": {
   "display_name": "Python 3",
   "language": "python",
   "name": "python3"
  },
  "language_info": {
   "codemirror_mode": {
    "name": "ipython",
    "version": 3
   },
   "file_extension": ".py",
   "mimetype": "text/x-python",
   "name": "python",
   "nbconvert_exporter": "python",
   "pygments_lexer": "ipython3",
   "version": "3.7.6"
  }
 },
 "nbformat": 4,
 "nbformat_minor": 2
}
